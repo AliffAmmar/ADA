{
  "nbformat": 4,
  "nbformat_minor": 0,
  "metadata": {
    "colab": {
      "provenance": []
    },
    "kernelspec": {
      "name": "python3",
      "display_name": "Python 3"
    },
    "language_info": {
      "name": "python"
    }
  },
  "cells": [
    {
      "cell_type": "markdown",
      "source": [
        "\n",
        "\n",
        "# Dataset exploration\n"
      ],
      "metadata": {
        "id": "k2RRgiBLgGjx"
      }
    },
    {
      "cell_type": "markdown",
      "source": [
        "Loading data"
      ],
      "metadata": {
        "id": "g1-d7zQceujT"
      }
    },
    {
      "cell_type": "code",
      "execution_count": 8,
      "metadata": {
        "id": "xn3PUBwRYeXe",
        "colab": {
          "base_uri": "https://localhost:8080/",
          "height": 363
        },
        "outputId": "d4181213-5539-4828-d43d-3a17bae435f3"
      },
      "outputs": [
        {
          "output_type": "execute_result",
          "data": {
            "text/plain": [
              "         System Name  Power Requirement  Time to Restore (min)  \\\n",
              "0            AI Grid                 10                      5   \n",
              "1      Nav Interface                 26                     11   \n",
              "2      Sensor Driver                 14                     13   \n",
              "3        Core Driver                  8                      5   \n",
              "4      Nav Interface                 26                     16   \n",
              "5      Defense Relay                 22                     12   \n",
              "6    Comms Interface                 16                     15   \n",
              "7        Engine Grid                  6                     23   \n",
              "8       Comms Module                 14                     21   \n",
              "9  Sensor Stabilizer                  8                     12   \n",
              "\n",
              "   Criticality Score  \n",
              "0                 66  \n",
              "1                 97  \n",
              "2                 22  \n",
              "3                 20  \n",
              "4                 24  \n",
              "5                 33  \n",
              "6                 46  \n",
              "7                 28  \n",
              "8                 98  \n",
              "9                 34  "
            ],
            "text/html": [
              "\n",
              "  <div id=\"df-cde4617a-24c7-4a76-adee-5a3cd453c5d0\" class=\"colab-df-container\">\n",
              "    <div>\n",
              "<style scoped>\n",
              "    .dataframe tbody tr th:only-of-type {\n",
              "        vertical-align: middle;\n",
              "    }\n",
              "\n",
              "    .dataframe tbody tr th {\n",
              "        vertical-align: top;\n",
              "    }\n",
              "\n",
              "    .dataframe thead th {\n",
              "        text-align: right;\n",
              "    }\n",
              "</style>\n",
              "<table border=\"1\" class=\"dataframe\">\n",
              "  <thead>\n",
              "    <tr style=\"text-align: right;\">\n",
              "      <th></th>\n",
              "      <th>System Name</th>\n",
              "      <th>Power Requirement</th>\n",
              "      <th>Time to Restore (min)</th>\n",
              "      <th>Criticality Score</th>\n",
              "    </tr>\n",
              "  </thead>\n",
              "  <tbody>\n",
              "    <tr>\n",
              "      <th>0</th>\n",
              "      <td>AI Grid</td>\n",
              "      <td>10</td>\n",
              "      <td>5</td>\n",
              "      <td>66</td>\n",
              "    </tr>\n",
              "    <tr>\n",
              "      <th>1</th>\n",
              "      <td>Nav Interface</td>\n",
              "      <td>26</td>\n",
              "      <td>11</td>\n",
              "      <td>97</td>\n",
              "    </tr>\n",
              "    <tr>\n",
              "      <th>2</th>\n",
              "      <td>Sensor Driver</td>\n",
              "      <td>14</td>\n",
              "      <td>13</td>\n",
              "      <td>22</td>\n",
              "    </tr>\n",
              "    <tr>\n",
              "      <th>3</th>\n",
              "      <td>Core Driver</td>\n",
              "      <td>8</td>\n",
              "      <td>5</td>\n",
              "      <td>20</td>\n",
              "    </tr>\n",
              "    <tr>\n",
              "      <th>4</th>\n",
              "      <td>Nav Interface</td>\n",
              "      <td>26</td>\n",
              "      <td>16</td>\n",
              "      <td>24</td>\n",
              "    </tr>\n",
              "    <tr>\n",
              "      <th>5</th>\n",
              "      <td>Defense Relay</td>\n",
              "      <td>22</td>\n",
              "      <td>12</td>\n",
              "      <td>33</td>\n",
              "    </tr>\n",
              "    <tr>\n",
              "      <th>6</th>\n",
              "      <td>Comms Interface</td>\n",
              "      <td>16</td>\n",
              "      <td>15</td>\n",
              "      <td>46</td>\n",
              "    </tr>\n",
              "    <tr>\n",
              "      <th>7</th>\n",
              "      <td>Engine Grid</td>\n",
              "      <td>6</td>\n",
              "      <td>23</td>\n",
              "      <td>28</td>\n",
              "    </tr>\n",
              "    <tr>\n",
              "      <th>8</th>\n",
              "      <td>Comms Module</td>\n",
              "      <td>14</td>\n",
              "      <td>21</td>\n",
              "      <td>98</td>\n",
              "    </tr>\n",
              "    <tr>\n",
              "      <th>9</th>\n",
              "      <td>Sensor Stabilizer</td>\n",
              "      <td>8</td>\n",
              "      <td>12</td>\n",
              "      <td>34</td>\n",
              "    </tr>\n",
              "  </tbody>\n",
              "</table>\n",
              "</div>\n",
              "    <div class=\"colab-df-buttons\">\n",
              "\n",
              "  <div class=\"colab-df-container\">\n",
              "    <button class=\"colab-df-convert\" onclick=\"convertToInteractive('df-cde4617a-24c7-4a76-adee-5a3cd453c5d0')\"\n",
              "            title=\"Convert this dataframe to an interactive table.\"\n",
              "            style=\"display:none;\">\n",
              "\n",
              "  <svg xmlns=\"http://www.w3.org/2000/svg\" height=\"24px\" viewBox=\"0 -960 960 960\">\n",
              "    <path d=\"M120-120v-720h720v720H120Zm60-500h600v-160H180v160Zm220 220h160v-160H400v160Zm0 220h160v-160H400v160ZM180-400h160v-160H180v160Zm440 0h160v-160H620v160ZM180-180h160v-160H180v160Zm440 0h160v-160H620v160Z\"/>\n",
              "  </svg>\n",
              "    </button>\n",
              "\n",
              "  <style>\n",
              "    .colab-df-container {\n",
              "      display:flex;\n",
              "      gap: 12px;\n",
              "    }\n",
              "\n",
              "    .colab-df-convert {\n",
              "      background-color: #E8F0FE;\n",
              "      border: none;\n",
              "      border-radius: 50%;\n",
              "      cursor: pointer;\n",
              "      display: none;\n",
              "      fill: #1967D2;\n",
              "      height: 32px;\n",
              "      padding: 0 0 0 0;\n",
              "      width: 32px;\n",
              "    }\n",
              "\n",
              "    .colab-df-convert:hover {\n",
              "      background-color: #E2EBFA;\n",
              "      box-shadow: 0px 1px 2px rgba(60, 64, 67, 0.3), 0px 1px 3px 1px rgba(60, 64, 67, 0.15);\n",
              "      fill: #174EA6;\n",
              "    }\n",
              "\n",
              "    .colab-df-buttons div {\n",
              "      margin-bottom: 4px;\n",
              "    }\n",
              "\n",
              "    [theme=dark] .colab-df-convert {\n",
              "      background-color: #3B4455;\n",
              "      fill: #D2E3FC;\n",
              "    }\n",
              "\n",
              "    [theme=dark] .colab-df-convert:hover {\n",
              "      background-color: #434B5C;\n",
              "      box-shadow: 0px 1px 3px 1px rgba(0, 0, 0, 0.15);\n",
              "      filter: drop-shadow(0px 1px 2px rgba(0, 0, 0, 0.3));\n",
              "      fill: #FFFFFF;\n",
              "    }\n",
              "  </style>\n",
              "\n",
              "    <script>\n",
              "      const buttonEl =\n",
              "        document.querySelector('#df-cde4617a-24c7-4a76-adee-5a3cd453c5d0 button.colab-df-convert');\n",
              "      buttonEl.style.display =\n",
              "        google.colab.kernel.accessAllowed ? 'block' : 'none';\n",
              "\n",
              "      async function convertToInteractive(key) {\n",
              "        const element = document.querySelector('#df-cde4617a-24c7-4a76-adee-5a3cd453c5d0');\n",
              "        const dataTable =\n",
              "          await google.colab.kernel.invokeFunction('convertToInteractive',\n",
              "                                                    [key], {});\n",
              "        if (!dataTable) return;\n",
              "\n",
              "        const docLinkHtml = 'Like what you see? Visit the ' +\n",
              "          '<a target=\"_blank\" href=https://colab.research.google.com/notebooks/data_table.ipynb>data table notebook</a>'\n",
              "          + ' to learn more about interactive tables.';\n",
              "        element.innerHTML = '';\n",
              "        dataTable['output_type'] = 'display_data';\n",
              "        await google.colab.output.renderOutput(dataTable, element);\n",
              "        const docLink = document.createElement('div');\n",
              "        docLink.innerHTML = docLinkHtml;\n",
              "        element.appendChild(docLink);\n",
              "      }\n",
              "    </script>\n",
              "  </div>\n",
              "\n",
              "\n",
              "    <div id=\"df-b36a9f5b-ea19-4e00-9e2b-86ef4fdc0239\">\n",
              "      <button class=\"colab-df-quickchart\" onclick=\"quickchart('df-b36a9f5b-ea19-4e00-9e2b-86ef4fdc0239')\"\n",
              "                title=\"Suggest charts\"\n",
              "                style=\"display:none;\">\n",
              "\n",
              "<svg xmlns=\"http://www.w3.org/2000/svg\" height=\"24px\"viewBox=\"0 0 24 24\"\n",
              "     width=\"24px\">\n",
              "    <g>\n",
              "        <path d=\"M19 3H5c-1.1 0-2 .9-2 2v14c0 1.1.9 2 2 2h14c1.1 0 2-.9 2-2V5c0-1.1-.9-2-2-2zM9 17H7v-7h2v7zm4 0h-2V7h2v10zm4 0h-2v-4h2v4z\"/>\n",
              "    </g>\n",
              "</svg>\n",
              "      </button>\n",
              "\n",
              "<style>\n",
              "  .colab-df-quickchart {\n",
              "      --bg-color: #E8F0FE;\n",
              "      --fill-color: #1967D2;\n",
              "      --hover-bg-color: #E2EBFA;\n",
              "      --hover-fill-color: #174EA6;\n",
              "      --disabled-fill-color: #AAA;\n",
              "      --disabled-bg-color: #DDD;\n",
              "  }\n",
              "\n",
              "  [theme=dark] .colab-df-quickchart {\n",
              "      --bg-color: #3B4455;\n",
              "      --fill-color: #D2E3FC;\n",
              "      --hover-bg-color: #434B5C;\n",
              "      --hover-fill-color: #FFFFFF;\n",
              "      --disabled-bg-color: #3B4455;\n",
              "      --disabled-fill-color: #666;\n",
              "  }\n",
              "\n",
              "  .colab-df-quickchart {\n",
              "    background-color: var(--bg-color);\n",
              "    border: none;\n",
              "    border-radius: 50%;\n",
              "    cursor: pointer;\n",
              "    display: none;\n",
              "    fill: var(--fill-color);\n",
              "    height: 32px;\n",
              "    padding: 0;\n",
              "    width: 32px;\n",
              "  }\n",
              "\n",
              "  .colab-df-quickchart:hover {\n",
              "    background-color: var(--hover-bg-color);\n",
              "    box-shadow: 0 1px 2px rgba(60, 64, 67, 0.3), 0 1px 3px 1px rgba(60, 64, 67, 0.15);\n",
              "    fill: var(--button-hover-fill-color);\n",
              "  }\n",
              "\n",
              "  .colab-df-quickchart-complete:disabled,\n",
              "  .colab-df-quickchart-complete:disabled:hover {\n",
              "    background-color: var(--disabled-bg-color);\n",
              "    fill: var(--disabled-fill-color);\n",
              "    box-shadow: none;\n",
              "  }\n",
              "\n",
              "  .colab-df-spinner {\n",
              "    border: 2px solid var(--fill-color);\n",
              "    border-color: transparent;\n",
              "    border-bottom-color: var(--fill-color);\n",
              "    animation:\n",
              "      spin 1s steps(1) infinite;\n",
              "  }\n",
              "\n",
              "  @keyframes spin {\n",
              "    0% {\n",
              "      border-color: transparent;\n",
              "      border-bottom-color: var(--fill-color);\n",
              "      border-left-color: var(--fill-color);\n",
              "    }\n",
              "    20% {\n",
              "      border-color: transparent;\n",
              "      border-left-color: var(--fill-color);\n",
              "      border-top-color: var(--fill-color);\n",
              "    }\n",
              "    30% {\n",
              "      border-color: transparent;\n",
              "      border-left-color: var(--fill-color);\n",
              "      border-top-color: var(--fill-color);\n",
              "      border-right-color: var(--fill-color);\n",
              "    }\n",
              "    40% {\n",
              "      border-color: transparent;\n",
              "      border-right-color: var(--fill-color);\n",
              "      border-top-color: var(--fill-color);\n",
              "    }\n",
              "    60% {\n",
              "      border-color: transparent;\n",
              "      border-right-color: var(--fill-color);\n",
              "    }\n",
              "    80% {\n",
              "      border-color: transparent;\n",
              "      border-right-color: var(--fill-color);\n",
              "      border-bottom-color: var(--fill-color);\n",
              "    }\n",
              "    90% {\n",
              "      border-color: transparent;\n",
              "      border-bottom-color: var(--fill-color);\n",
              "    }\n",
              "  }\n",
              "</style>\n",
              "\n",
              "      <script>\n",
              "        async function quickchart(key) {\n",
              "          const quickchartButtonEl =\n",
              "            document.querySelector('#' + key + ' button');\n",
              "          quickchartButtonEl.disabled = true;  // To prevent multiple clicks.\n",
              "          quickchartButtonEl.classList.add('colab-df-spinner');\n",
              "          try {\n",
              "            const charts = await google.colab.kernel.invokeFunction(\n",
              "                'suggestCharts', [key], {});\n",
              "          } catch (error) {\n",
              "            console.error('Error during call to suggestCharts:', error);\n",
              "          }\n",
              "          quickchartButtonEl.classList.remove('colab-df-spinner');\n",
              "          quickchartButtonEl.classList.add('colab-df-quickchart-complete');\n",
              "        }\n",
              "        (() => {\n",
              "          let quickchartButtonEl =\n",
              "            document.querySelector('#df-b36a9f5b-ea19-4e00-9e2b-86ef4fdc0239 button');\n",
              "          quickchartButtonEl.style.display =\n",
              "            google.colab.kernel.accessAllowed ? 'block' : 'none';\n",
              "        })();\n",
              "      </script>\n",
              "    </div>\n",
              "\n",
              "    </div>\n",
              "  </div>\n"
            ],
            "application/vnd.google.colaboratory.intrinsic+json": {
              "type": "dataframe",
              "variable_name": "df",
              "summary": "{\n  \"name\": \"df\",\n  \"rows\": 30,\n  \"fields\": [\n    {\n      \"column\": \"System Name\",\n      \"properties\": {\n        \"dtype\": \"string\",\n        \"num_unique_values\": 24,\n        \"samples\": [\n          \"Sensor Stabilizer\",\n          \"Engine Module\",\n          \"AI Grid\"\n        ],\n        \"semantic_type\": \"\",\n        \"description\": \"\"\n      }\n    },\n    {\n      \"column\": \"Power Requirement\",\n      \"properties\": {\n        \"dtype\": \"number\",\n        \"std\": 6,\n        \"min\": 6,\n        \"max\": 29,\n        \"num_unique_values\": 17,\n        \"samples\": [\n          10,\n          26,\n          16\n        ],\n        \"semantic_type\": \"\",\n        \"description\": \"\"\n      }\n    },\n    {\n      \"column\": \"Time to Restore (min)\",\n      \"properties\": {\n        \"dtype\": \"number\",\n        \"std\": 4,\n        \"min\": 5,\n        \"max\": 23,\n        \"num_unique_values\": 13,\n        \"samples\": [\n          6,\n          9,\n          5\n        ],\n        \"semantic_type\": \"\",\n        \"description\": \"\"\n      }\n    },\n    {\n      \"column\": \"Criticality Score\",\n      \"properties\": {\n        \"dtype\": \"number\",\n        \"std\": 24,\n        \"min\": 20,\n        \"max\": 98,\n        \"num_unique_values\": 28,\n        \"samples\": [\n          34,\n          85,\n          98\n        ],\n        \"semantic_type\": \"\",\n        \"description\": \"\"\n      }\n    }\n  ]\n}"
            }
          },
          "metadata": {},
          "execution_count": 8
        }
      ],
      "source": [
        "import pandas as pd\n",
        "\n",
        "df = pd.read_csv('AI_Override_System_Data.csv')\n",
        "df.head(10)"
      ]
    },
    {
      "cell_type": "markdown",
      "source": [
        "The dataset contain 30 rows and 4 columns.Those 4 colums are:\n",
        "\n",
        "\n",
        "\n",
        "\n",
        "*   System name : Unique identifiers for each subsystem\n",
        "*   Power requirement : Energy needed to restore each system\n",
        "*   Time to restore(min) : Time needed to bring system back online\n",
        "*   Critically score : Priority metric and the target to maximize durung recovery\n",
        "\n",
        "\n",
        "\n",
        "\n",
        "\n",
        "\n",
        "\n",
        "\n",
        "\n"
      ],
      "metadata": {
        "id": "3Y9n2hINdvHO"
      }
    },
    {
      "cell_type": "markdown",
      "source": [
        "# Data Visualization"
      ],
      "metadata": {
        "id": "ZY-vi1lYfMDW"
      }
    },
    {
      "cell_type": "markdown",
      "source": [
        "Visual in 2d\n",
        "\n",
        "*   Critical score changes in color\n",
        "\n",
        "\n"
      ],
      "metadata": {
        "id": "N_6JC4sIfmKi"
      }
    },
    {
      "cell_type": "code",
      "source": [
        "import matplotlib.pyplot as plt\n",
        "import seaborn as sns\n",
        "\n",
        "# Plot: Criticality vs Power vs Time\n",
        "plt.figure(figsize=(10, 6))\n",
        "sns.scatterplot(data=df, x='Power Requirement', y='Time to Restore (min)', size='Criticality Score',\n",
        "                hue='Criticality Score', palette='viridis', sizes=(40, 400), legend='full')\n",
        "plt.title('System Criticality vs Power and Restore Time')\n",
        "plt.xlabel('Power Requirement')\n",
        "plt.ylabel('Time to Restore (min)')\n",
        "plt.grid(True)\n",
        "plt.legend(bbox_to_anchor=(1.05, 1), loc='upper left', title='Criticality Score')\n",
        "plt.tight_layout()\n",
        "plt.show()"
      ],
      "metadata": {
        "colab": {
          "base_uri": "https://localhost:8080/",
          "height": 0
        },
        "id": "Kf5ade0Me7lv",
        "outputId": "792287d1-12a2-499b-9ec4-6de3ebff2682"
      },
      "execution_count": 9,
      "outputs": [
        {
          "output_type": "display_data",
          "data": {
            "text/plain": [
              "<Figure size 1000x600 with 1 Axes>"
            ],
            "image/png": "[encoded data removed]"
          },
          "metadata": {}
        }
      ]
    },
    {
      "cell_type": "markdown",
      "source": [
        "Visual in 3d"
      ],
      "metadata": {
        "id": "_-eFO8xdf4-R"
      }
    },
    {
      "cell_type": "code",
      "source": [
        "import plotly.express as px\n",
        "\n",
        "fig = px.scatter_3d(df, x='Power Requirement', y='Time to Restore (min)',\n",
        "                    z='Criticality Score', color='System Name',\n",
        "                    hover_name='System Name', size='Criticality Score',\n",
        "                    size_max=20)\n",
        "fig.update_layout(title='System Power-Time-Criticality Space')\n",
        "fig.show()"
      ],
      "metadata": {
        "colab": {
          "base_uri": "https://localhost:8080/",
          "height": 0
        },
        "id": "b9kbWIbdfcqq",
        "outputId": "9c1cc22c-6e42-4cfa-8a31-beec104120c9"
      },
      "execution_count": 4,
      "outputs": [
        {
          "output_type": "display_data",
          "data": {
            "text/html": [
              "<html>\n",
              "<head><meta charset=\"utf-8\" /></head>\n",
              "<body>\n",
              "    <div>            <script src=\"https://cdnjs.cloudflare.com/ajax/libs/mathjax/2.7.5/MathJax.js?config=TeX-AMS-MML_SVG\"></script><script type=\"text/javascript\">if (window.MathJax && window.MathJax.Hub && window.MathJax.Hub.Config) {window.MathJax.Hub.Config({SVG: {font: \"STIX-Web\"}});}</script>                <script type=\"text/javascript\">window.PlotlyConfig = {MathJaxConfig: 'local'};</script>\n",
              "        <script charset=\"utf-8\" src=\"https://cdn.plot.ly/plotly-2.35.2.min.js\"></script>                <div id=\"a8a75d36-1267-4e27-a17e-3245f611f948\" class=\"plotly-graph-div\" style=\"height:525px; width:100%;\"></div>            <script type=\"text/javascript\">                                    window.PLOTLYENV=window.PLOTLYENV || {};                                    if (document.getElementById(\"a8a75d36-1267-4e27-a17e-3245f611f948\")) {                    Plotly.newPlot(                        \"a8a75d36-1267-4e27-a17e-3245f611f948\",                        [{\"hovertemplate\":\"\\u003cb\\u003e%{hovertext}\\u003c\\u002fb\\u003e\\u003cbr\\u003e\\u003cbr\\u003eSystem Name=AI Grid\\u003cbr\\u003ePower Requirement=%{x}\\u003cbr\\u003eTime to Restore (min)=%{y}\\u003cbr\\u003eCriticality Score=%{marker.size}\\u003cextra\\u003e\\u003c\\u002fextra\\u003e\",\"hovertext\":[\"AI Grid\",\"AI Grid\",\"AI Grid\"],\"legendgroup\":\"AI Grid\",\"marker\":{\"color\":\"#636efa\",\"size\":[66,82,78],\"sizemode\":\"area\",\"sizeref\":0.245,\"symbol\":\"circle\"},\"mode\":\"markers\",\"name\":\"AI Grid\",\"scene\":\"scene\",\"showlegend\":true,\"x\":[10,12,28],\"y\":[5,9,9],\"z\":[66,82,78],\"type\":\"scatter3d\"},{\"hovertemplate\":\"\\u003cb\\u003e%{hovertext}\\u003c\\u002fb\\u003e\\u003cbr\\u003e\\u003cbr\\u003eSystem Name=Nav Interface\\u003cbr\\u003ePower Requirement=%{x}\\u003cbr\\u003eTime to Restore (min)=%{y}\\u003cbr\\u003eCriticality Score=%{marker.size}\\u003cextra\\u003e\\u003c\\u002fextra\\u003e\",\"hovertext\":[\"Nav Interface\",\"Nav Interface\"],\"legendgroup\":\"Nav Interface\",\"marker\":{\"color\":\"#EF553B\",\"size\":[97,24],\"sizemode\":\"area\",\"sizeref\":0.245,\"symbol\":\"circle\"},\"mode\":\"markers\",\"name\":\"Nav Interface\",\"scene\":\"scene\",\"showlegend\":true,\"x\":[26,26],\"y\":[11,16],\"z\":[97,24],\"type\":\"scatter3d\"},{\"hovertemplate\":\"\\u003cb\\u003e%{hovertext}\\u003c\\u002fb\\u003e\\u003cbr\\u003e\\u003cbr\\u003eSystem Name=Sensor Driver\\u003cbr\\u003ePower Requirement=%{x}\\u003cbr\\u003eTime to Restore (min)=%{y}\\u003cbr\\u003eCriticality Score=%{marker.size}\\u003cextra\\u003e\\u003c\\u002fextra\\u003e\",\"hovertext\":[\"Sensor Driver\"],\"legendgroup\":\"Sensor Driver\",\"marker\":{\"color\":\"#00cc96\",\"size\":[22],\"sizemode\":\"area\",\"sizeref\":0.245,\"symbol\":\"circle\"},\"mode\":\"markers\",\"name\":\"Sensor Driver\",\"scene\":\"scene\",\"showlegend\":true,\"x\":[14],\"y\":[13],\"z\":[22],\"type\":\"scatter3d\"},{\"hovertemplate\":\"\\u003cb\\u003e%{hovertext}\\u003c\\u002fb\\u003e\\u003cbr\\u003e\\u003cbr\\u003eSystem Name=Core Driver\\u003cbr\\u003ePower Requirement=%{x}\\u003cbr\\u003eTime to Restore (min)=%{y}\\u003cbr\\u003eCriticality Score=%{marker.size}\\u003cextra\\u003e\\u003c\\u002fextra\\u003e\",\"hovertext\":[\"Core Driver\"],\"legendgroup\":\"Core Driver\",\"marker\":{\"color\":\"#ab63fa\",\"size\":[20],\"sizemode\":\"area\",\"sizeref\":0.245,\"symbol\":\"circle\"},\"mode\":\"markers\",\"name\":\"Core Driver\",\"scene\":\"scene\",\"showlegend\":true,\"x\":[8],\"y\":[5],\"z\":[20],\"type\":\"scatter3d\"},{\"hovertemplate\":\"\\u003cb\\u003e%{hovertext}\\u003c\\u002fb\\u003e\\u003cbr\\u003e\\u003cbr\\u003eSystem Name=Defense Relay\\u003cbr\\u003ePower Requirement=%{x}\\u003cbr\\u003eTime to Restore (min)=%{y}\\u003cbr\\u003eCriticality Score=%{marker.size}\\u003cextra\\u003e\\u003c\\u002fextra\\u003e\",\"hovertext\":[\"Defense Relay\"],\"legendgroup\":\"Defense Relay\",\"marker\":{\"color\":\"#FFA15A\",\"size\":[33],\"sizemode\":\"area\",\"sizeref\":0.245,\"symbol\":\"circle\"},\"mode\":\"markers\",\"name\":\"Defense Relay\",\"scene\":\"scene\",\"showlegend\":true,\"x\":[22],\"y\":[12],\"z\":[33],\"type\":\"scatter3d\"},{\"hovertemplate\":\"\\u003cb\\u003e%{hovertext}\\u003c\\u002fb\\u003e\\u003cbr\\u003e\\u003cbr\\u003eSystem Name=Comms Interface\\u003cbr\\u003ePower Requirement=%{x}\\u003cbr\\u003eTime to Restore (min)=%{y}\\u003cbr\\u003eCriticality Score=%{marker.size}\\u003cextra\\u003e\\u003c\\u002fextra\\u003e\",\"hovertext\":[\"Comms Interface\",\"Comms Interface\"],\"legendgroup\":\"Comms Interface\",\"marker\":{\"color\":\"#19d3f3\",\"size\":[46,61],\"sizemode\":\"area\",\"sizeref\":0.245,\"symbol\":\"circle\"},\"mode\":\"markers\",\"name\":\"Comms Interface\",\"scene\":\"scene\",\"showlegend\":true,\"x\":[16,18],\"y\":[15,7],\"z\":[46,61],\"type\":\"scatter3d\"},{\"hovertemplate\":\"\\u003cb\\u003e%{hovertext}\\u003c\\u002fb\\u003e\\u003cbr\\u003e\\u003cbr\\u003eSystem Name=Engine Grid\\u003cbr\\u003ePower Requirement=%{x}\\u003cbr\\u003eTime to Restore (min)=%{y}\\u003cbr\\u003eCriticality Score=%{marker.size}\\u003cextra\\u003e\\u003c\\u002fextra\\u003e\",\"hovertext\":[\"Engine Grid\",\"Engine Grid\",\"Engine Grid\"],\"legendgroup\":\"Engine Grid\",\"marker\":{\"color\":\"#FF6692\",\"size\":[28,62,64],\"sizemode\":\"area\",\"sizeref\":0.245,\"symbol\":\"circle\"},\"mode\":\"markers\",\"name\":\"Engine Grid\",\"scene\":\"scene\",\"showlegend\":true,\"x\":[6,25,19],\"y\":[23,13,7],\"z\":[28,62,64],\"type\":\"scatter3d\"},{\"hovertemplate\":\"\\u003cb\\u003e%{hovertext}\\u003c\\u002fb\\u003e\\u003cbr\\u003e\\u003cbr\\u003eSystem Name=Comms Module\\u003cbr\\u003ePower Requirement=%{x}\\u003cbr\\u003eTime to Restore (min)=%{y}\\u003cbr\\u003eCriticality Score=%{marker.size}\\u003cextra\\u003e\\u003c\\u002fextra\\u003e\",\"hovertext\":[\"Comms Module\"],\"legendgroup\":\"Comms Module\",\"marker\":{\"color\":\"#B6E880\",\"size\":[98],\"sizemode\":\"area\",\"sizeref\":0.245,\"symbol\":\"circle\"},\"mode\":\"markers\",\"name\":\"Comms Module\",\"scene\":\"scene\",\"showlegend\":true,\"x\":[14],\"y\":[21],\"z\":[98],\"type\":\"scatter3d\"},{\"hovertemplate\":\"\\u003cb\\u003e%{hovertext}\\u003c\\u002fb\\u003e\\u003cbr\\u003e\\u003cbr\\u003eSystem Name=Sensor Stabilizer\\u003cbr\\u003ePower Requirement=%{x}\\u003cbr\\u003eTime to Restore (min)=%{y}\\u003cbr\\u003eCriticality Score=%{marker.size}\\u003cextra\\u003e\\u003c\\u002fextra\\u003e\",\"hovertext\":[\"Sensor Stabilizer\"],\"legendgroup\":\"Sensor Stabilizer\",\"marker\":{\"color\":\"#FF97FF\",\"size\":[34],\"sizemode\":\"area\",\"sizeref\":0.245,\"symbol\":\"circle\"},\"mode\":\"markers\",\"name\":\"Sensor Stabilizer\",\"scene\":\"scene\",\"showlegend\":true,\"x\":[8],\"y\":[12],\"z\":[34],\"type\":\"scatter3d\"},{\"hovertemplate\":\"\\u003cb\\u003e%{hovertext}\\u003c\\u002fb\\u003e\\u003cbr\\u003e\\u003cbr\\u003eSystem Name=Control Stabilizer\\u003cbr\\u003ePower Requirement=%{x}\\u003cbr\\u003eTime to Restore (min)=%{y}\\u003cbr\\u003eCriticality Score=%{marker.size}\\u003cextra\\u003e\\u003c\\u002fextra\\u003e\",\"hovertext\":[\"Control Stabilizer\"],\"legendgroup\":\"Control Stabilizer\",\"marker\":{\"color\":\"#FECB52\",\"size\":[96],\"sizemode\":\"area\",\"sizeref\":0.245,\"symbol\":\"circle\"},\"mode\":\"markers\",\"name\":\"Control Stabilizer\",\"scene\":\"scene\",\"showlegend\":true,\"x\":[20],\"y\":[7],\"z\":[96],\"type\":\"scatter3d\"},{\"hovertemplate\":\"\\u003cb\\u003e%{hovertext}\\u003c\\u002fb\\u003e\\u003cbr\\u003e\\u003cbr\\u003eSystem Name=Core Grid\\u003cbr\\u003ePower Requirement=%{x}\\u003cbr\\u003eTime to Restore (min)=%{y}\\u003cbr\\u003eCriticality Score=%{marker.size}\\u003cextra\\u003e\\u003c\\u002fextra\\u003e\",\"hovertext\":[\"Core Grid\"],\"legendgroup\":\"Core Grid\",\"marker\":{\"color\":\"#636efa\",\"size\":[70],\"sizemode\":\"area\",\"sizeref\":0.245,\"symbol\":\"circle\"},\"mode\":\"markers\",\"name\":\"Core Grid\",\"scene\":\"scene\",\"showlegend\":true,\"x\":[19],\"y\":[5],\"z\":[70],\"type\":\"scatter3d\"},{\"hovertemplate\":\"\\u003cb\\u003e%{hovertext}\\u003c\\u002fb\\u003e\\u003cbr\\u003e\\u003cbr\\u003eSystem Name=Control Relay\\u003cbr\\u003ePower Requirement=%{x}\\u003cbr\\u003eTime to Restore (min)=%{y}\\u003cbr\\u003eCriticality Score=%{marker.size}\\u003cextra\\u003e\\u003c\\u002fextra\\u003e\",\"hovertext\":[\"Control Relay\"],\"legendgroup\":\"Control Relay\",\"marker\":{\"color\":\"#EF553B\",\"size\":[71],\"sizemode\":\"area\",\"sizeref\":0.245,\"symbol\":\"circle\"},\"mode\":\"markers\",\"name\":\"Control Relay\",\"scene\":\"scene\",\"showlegend\":true,\"x\":[18],\"y\":[14],\"z\":[71],\"type\":\"scatter3d\"},{\"hovertemplate\":\"\\u003cb\\u003e%{hovertext}\\u003c\\u002fb\\u003e\\u003cbr\\u003e\\u003cbr\\u003eSystem Name=Sensor Relay\\u003cbr\\u003ePower Requirement=%{x}\\u003cbr\\u003eTime to Restore (min)=%{y}\\u003cbr\\u003eCriticality Score=%{marker.size}\\u003cextra\\u003e\\u003c\\u002fextra\\u003e\",\"hovertext\":[\"Sensor Relay\"],\"legendgroup\":\"Sensor Relay\",\"marker\":{\"color\":\"#00cc96\",\"size\":[23],\"sizemode\":\"area\",\"sizeref\":0.245,\"symbol\":\"circle\"},\"mode\":\"markers\",\"name\":\"Sensor Relay\",\"scene\":\"scene\",\"showlegend\":true,\"x\":[27],\"y\":[11],\"z\":[23],\"type\":\"scatter3d\"},{\"hovertemplate\":\"\\u003cb\\u003e%{hovertext}\\u003c\\u002fb\\u003e\\u003cbr\\u003e\\u003cbr\\u003eSystem Name=AI Interface\\u003cbr\\u003ePower Requirement=%{x}\\u003cbr\\u003eTime to Restore (min)=%{y}\\u003cbr\\u003eCriticality Score=%{marker.size}\\u003cextra\\u003e\\u003c\\u002fextra\\u003e\",\"hovertext\":[\"AI Interface\"],\"legendgroup\":\"AI Interface\",\"marker\":{\"color\":\"#ab63fa\",\"size\":[42],\"sizemode\":\"area\",\"sizeref\":0.245,\"symbol\":\"circle\"},\"mode\":\"markers\",\"name\":\"AI Interface\",\"scene\":\"scene\",\"showlegend\":true,\"x\":[29],\"y\":[13],\"z\":[42],\"type\":\"scatter3d\"},{\"hovertemplate\":\"\\u003cb\\u003e%{hovertext}\\u003c\\u002fb\\u003e\\u003cbr\\u003e\\u003cbr\\u003eSystem Name=Control Driver\\u003cbr\\u003ePower Requirement=%{x}\\u003cbr\\u003eTime to Restore (min)=%{y}\\u003cbr\\u003eCriticality Score=%{marker.size}\\u003cextra\\u003e\\u003c\\u002fextra\\u003e\",\"hovertext\":[\"Control Driver\"],\"legendgroup\":\"Control Driver\",\"marker\":{\"color\":\"#FFA15A\",\"size\":[34],\"sizemode\":\"area\",\"sizeref\":0.245,\"symbol\":\"circle\"},\"mode\":\"markers\",\"name\":\"Control Driver\",\"scene\":\"scene\",\"showlegend\":true,\"x\":[12],\"y\":[11],\"z\":[34],\"type\":\"scatter3d\"},{\"hovertemplate\":\"\\u003cb\\u003e%{hovertext}\\u003c\\u002fb\\u003e\\u003cbr\\u003e\\u003cbr\\u003eSystem Name=Control Grid\\u003cbr\\u003ePower Requirement=%{x}\\u003cbr\\u003eTime to Restore (min)=%{y}\\u003cbr\\u003eCriticality Score=%{marker.size}\\u003cextra\\u003e\\u003c\\u002fextra\\u003e\",\"hovertext\":[\"Control Grid\"],\"legendgroup\":\"Control Grid\",\"marker\":{\"color\":\"#19d3f3\",\"size\":[48],\"sizemode\":\"area\",\"sizeref\":0.245,\"symbol\":\"circle\"},\"mode\":\"markers\",\"name\":\"Control Grid\",\"scene\":\"scene\",\"showlegend\":true,\"x\":[20],\"y\":[12],\"z\":[48],\"type\":\"scatter3d\"},{\"hovertemplate\":\"\\u003cb\\u003e%{hovertext}\\u003c\\u002fb\\u003e\\u003cbr\\u003e\\u003cbr\\u003eSystem Name=Engine Module\\u003cbr\\u003ePower Requirement=%{x}\\u003cbr\\u003eTime to Restore (min)=%{y}\\u003cbr\\u003eCriticality Score=%{marker.size}\\u003cextra\\u003e\\u003c\\u002fextra\\u003e\",\"hovertext\":[\"Engine Module\"],\"legendgroup\":\"Engine Module\",\"marker\":{\"color\":\"#FF6692\",\"size\":[55],\"sizemode\":\"area\",\"sizeref\":0.245,\"symbol\":\"circle\"},\"mode\":\"markers\",\"name\":\"Engine Module\",\"scene\":\"scene\",\"showlegend\":true,\"x\":[17],\"y\":[16],\"z\":[55],\"type\":\"scatter3d\"},{\"hovertemplate\":\"\\u003cb\\u003e%{hovertext}\\u003c\\u002fb\\u003e\\u003cbr\\u003e\\u003cbr\\u003eSystem Name=Control Module\\u003cbr\\u003ePower Requirement=%{x}\\u003cbr\\u003eTime to Restore (min)=%{y}\\u003cbr\\u003eCriticality Score=%{marker.size}\\u003cextra\\u003e\\u003c\\u002fextra\\u003e\",\"hovertext\":[\"Control Module\"],\"legendgroup\":\"Control Module\",\"marker\":{\"color\":\"#B6E880\",\"size\":[32],\"sizemode\":\"area\",\"sizeref\":0.245,\"symbol\":\"circle\"},\"mode\":\"markers\",\"name\":\"Control Module\",\"scene\":\"scene\",\"showlegend\":true,\"x\":[22],\"y\":[6],\"z\":[32],\"type\":\"scatter3d\"},{\"hovertemplate\":\"\\u003cb\\u003e%{hovertext}\\u003c\\u002fb\\u003e\\u003cbr\\u003e\\u003cbr\\u003eSystem Name=Sensor Module\\u003cbr\\u003ePower Requirement=%{x}\\u003cbr\\u003eTime to Restore (min)=%{y}\\u003cbr\\u003eCriticality Score=%{marker.size}\\u003cextra\\u003e\\u003c\\u002fextra\\u003e\",\"hovertext\":[\"Sensor Module\"],\"legendgroup\":\"Sensor Module\",\"marker\":{\"color\":\"#FF97FF\",\"size\":[51],\"sizemode\":\"area\",\"sizeref\":0.245,\"symbol\":\"circle\"},\"mode\":\"markers\",\"name\":\"Sensor Module\",\"scene\":\"scene\",\"showlegend\":true,\"x\":[19],\"y\":[5],\"z\":[51],\"type\":\"scatter3d\"},{\"hovertemplate\":\"\\u003cb\\u003e%{hovertext}\\u003c\\u002fb\\u003e\\u003cbr\\u003e\\u003cbr\\u003eSystem Name=Defense Grid\\u003cbr\\u003ePower Requirement=%{x}\\u003cbr\\u003eTime to Restore (min)=%{y}\\u003cbr\\u003eCriticality Score=%{marker.size}\\u003cextra\\u003e\\u003c\\u002fextra\\u003e\",\"hovertext\":[\"Defense Grid\"],\"legendgroup\":\"Defense Grid\",\"marker\":{\"color\":\"#FECB52\",\"size\":[90],\"sizemode\":\"area\",\"sizeref\":0.245,\"symbol\":\"circle\"},\"mode\":\"markers\",\"name\":\"Defense Grid\",\"scene\":\"scene\",\"showlegend\":true,\"x\":[25],\"y\":[20],\"z\":[90],\"type\":\"scatter3d\"},{\"hovertemplate\":\"\\u003cb\\u003e%{hovertext}\\u003c\\u002fb\\u003e\\u003cbr\\u003e\\u003cbr\\u003eSystem Name=Nav Driver\\u003cbr\\u003ePower Requirement=%{x}\\u003cbr\\u003eTime to Restore (min)=%{y}\\u003cbr\\u003eCriticality Score=%{marker.size}\\u003cextra\\u003e\\u003c\\u002fextra\\u003e\",\"hovertext\":[\"Nav Driver\"],\"legendgroup\":\"Nav Driver\",\"marker\":{\"color\":\"#636efa\",\"size\":[47],\"sizemode\":\"area\",\"sizeref\":0.245,\"symbol\":\"circle\"},\"mode\":\"markers\",\"name\":\"Nav Driver\",\"scene\":\"scene\",\"showlegend\":true,\"x\":[29],\"y\":[7],\"z\":[47],\"type\":\"scatter3d\"},{\"hovertemplate\":\"\\u003cb\\u003e%{hovertext}\\u003c\\u002fb\\u003e\\u003cbr\\u003e\\u003cbr\\u003eSystem Name=Core Array\\u003cbr\\u003ePower Requirement=%{x}\\u003cbr\\u003eTime to Restore (min)=%{y}\\u003cbr\\u003eCriticality Score=%{marker.size}\\u003cextra\\u003e\\u003c\\u002fextra\\u003e\",\"hovertext\":[\"Core Array\"],\"legendgroup\":\"Core Array\",\"marker\":{\"color\":\"#EF553B\",\"size\":[85],\"sizemode\":\"area\",\"sizeref\":0.245,\"symbol\":\"circle\"},\"mode\":\"markers\",\"name\":\"Core Array\",\"scene\":\"scene\",\"showlegend\":true,\"x\":[17],\"y\":[16],\"z\":[85],\"type\":\"scatter3d\"},{\"hovertemplate\":\"\\u003cb\\u003e%{hovertext}\\u003c\\u002fb\\u003e\\u003cbr\\u003e\\u003cbr\\u003eSystem Name=Life Grid\\u003cbr\\u003ePower Requirement=%{x}\\u003cbr\\u003eTime to Restore (min)=%{y}\\u003cbr\\u003eCriticality Score=%{marker.size}\\u003cextra\\u003e\\u003c\\u002fextra\\u003e\",\"hovertext\":[\"Life Grid\"],\"legendgroup\":\"Life Grid\",\"marker\":{\"color\":\"#00cc96\",\"size\":[61],\"sizemode\":\"area\",\"sizeref\":0.245,\"symbol\":\"circle\"},\"mode\":\"markers\",\"name\":\"Life Grid\",\"scene\":\"scene\",\"showlegend\":true,\"x\":[13],\"y\":[12],\"z\":[61],\"type\":\"scatter3d\"},{\"hovertemplate\":\"\\u003cb\\u003e%{hovertext}\\u003c\\u002fb\\u003e\\u003cbr\\u003e\\u003cbr\\u003eSystem Name=Engine Array\\u003cbr\\u003ePower Requirement=%{x}\\u003cbr\\u003eTime to Restore (min)=%{y}\\u003cbr\\u003eCriticality Score=%{marker.size}\\u003cextra\\u003e\\u003c\\u002fextra\\u003e\",\"hovertext\":[\"Engine Array\"],\"legendgroup\":\"Engine Array\",\"marker\":{\"color\":\"#ab63fa\",\"size\":[81],\"sizemode\":\"area\",\"sizeref\":0.245,\"symbol\":\"circle\"},\"mode\":\"markers\",\"name\":\"Engine Array\",\"scene\":\"scene\",\"showlegend\":true,\"x\":[17],\"y\":[5],\"z\":[81],\"type\":\"scatter3d\"}],                        {\"template\":{\"data\":{\"histogram2dcontour\":[{\"type\":\"histogram2dcontour\",\"colorbar\":{\"outlinewidth\":0,\"ticks\":\"\"},\"colorscale\":[[0.0,\"#0d0887\"],[0.1111111111111111,\"#46039f\"],[0.2222222222222222,\"#7201a8\"],[0.3333333333333333,\"#9c179e\"],[0.4444444444444444,\"#bd3786\"],[0.5555555555555556,\"#d8576b\"],[0.6666666666666666,\"#ed7953\"],[0.7777777777777778,\"#fb9f3a\"],[0.8888888888888888,\"#fdca26\"],[1.0,\"#f0f921\"]]}],\"choropleth\":[{\"type\":\"choropleth\",\"colorbar\":{\"outlinewidth\":0,\"ticks\":\"\"}}],\"histogram2d\":[{\"type\":\"histogram2d\",\"colorbar\":{\"outlinewidth\":0,\"ticks\":\"\"},\"colorscale\":[[0.0,\"#0d0887\"],[0.1111111111111111,\"#46039f\"],[0.2222222222222222,\"#7201a8\"],[0.3333333333333333,\"#9c179e\"],[0.4444444444444444,\"#bd3786\"],[0.5555555555555556,\"#d8576b\"],[0.6666666666666666,\"#ed7953\"],[0.7777777777777778,\"#fb9f3a\"],[0.8888888888888888,\"#fdca26\"],[1.0,\"#f0f921\"]]}],\"heatmap\":[{\"type\":\"heatmap\",\"colorbar\":{\"outlinewidth\":0,\"ticks\":\"\"},\"colorscale\":[[0.0,\"#0d0887\"],[0.1111111111111111,\"#46039f\"],[0.2222222222222222,\"#7201a8\"],[0.3333333333333333,\"#9c179e\"],[0.4444444444444444,\"#bd3786\"],[0.5555555555555556,\"#d8576b\"],[0.6666666666666666,\"#ed7953\"],[0.7777777777777778,\"#fb9f3a\"],[0.8888888888888888,\"#fdca26\"],[1.0,\"#f0f921\"]]}],\"heatmapgl\":[{\"type\":\"heatmapgl\",\"colorbar\":{\"outlinewidth\":0,\"ticks\":\"\"},\"colorscale\":[[0.0,\"#0d0887\"],[0.1111111111111111,\"#46039f\"],[0.2222222222222222,\"#7201a8\"],[0.3333333333333333,\"#9c179e\"],[0.4444444444444444,\"#bd3786\"],[0.5555555555555556,\"#d8576b\"],[0.6666666666666666,\"#ed7953\"],[0.7777777777777778,\"#fb9f3a\"],[0.8888888888888888,\"#fdca26\"],[1.0,\"#f0f921\"]]}],\"contourcarpet\":[{\"type\":\"contourcarpet\",\"colorbar\":{\"outlinewidth\":0,\"ticks\":\"\"}}],\"contour\":[{\"type\":\"contour\",\"colorbar\":{\"outlinewidth\":0,\"ticks\":\"\"},\"colorscale\":[[0.0,\"#0d0887\"],[0.1111111111111111,\"#46039f\"],[0.2222222222222222,\"#7201a8\"],[0.3333333333333333,\"#9c179e\"],[0.4444444444444444,\"#bd3786\"],[0.5555555555555556,\"#d8576b\"],[0.6666666666666666,\"#ed7953\"],[0.7777777777777778,\"#fb9f3a\"],[0.8888888888888888,\"#fdca26\"],[1.0,\"#f0f921\"]]}],\"surface\":[{\"type\":\"surface\",\"colorbar\":{\"outlinewidth\":0,\"ticks\":\"\"},\"colorscale\":[[0.0,\"#0d0887\"],[0.1111111111111111,\"#46039f\"],[0.2222222222222222,\"#7201a8\"],[0.3333333333333333,\"#9c179e\"],[0.4444444444444444,\"#bd3786\"],[0.5555555555555556,\"#d8576b\"],[0.6666666666666666,\"#ed7953\"],[0.7777777777777778,\"#fb9f3a\"],[0.8888888888888888,\"#fdca26\"],[1.0,\"#f0f921\"]]}],\"mesh3d\":[{\"type\":\"mesh3d\",\"colorbar\":{\"outlinewidth\":0,\"ticks\":\"\"}}],\"scatter\":[{\"fillpattern\":{\"fillmode\":\"overlay\",\"size\":10,\"solidity\":0.2},\"type\":\"scatter\"}],\"parcoords\":[{\"type\":\"parcoords\",\"line\":{\"colorbar\":{\"outlinewidth\":0,\"ticks\":\"\"}}}],\"scatterpolargl\":[{\"type\":\"scatterpolargl\",\"marker\":{\"colorbar\":{\"outlinewidth\":0,\"ticks\":\"\"}}}],\"bar\":[{\"error_x\":{\"color\":\"#2a3f5f\"},\"error_y\":{\"color\":\"#2a3f5f\"},\"marker\":{\"line\":{\"color\":\"#E5ECF6\",\"width\":0.5},\"pattern\":{\"fillmode\":\"overlay\",\"size\":10,\"solidity\":0.2}},\"type\":\"bar\"}],\"scattergeo\":[{\"type\":\"scattergeo\",\"marker\":{\"colorbar\":{\"outlinewidth\":0,\"ticks\":\"\"}}}],\"scatterpolar\":[{\"type\":\"scatterpolar\",\"marker\":{\"colorbar\":{\"outlinewidth\":0,\"ticks\":\"\"}}}],\"histogram\":[{\"marker\":{\"pattern\":{\"fillmode\":\"overlay\",\"size\":10,\"solidity\":0.2}},\"type\":\"histogram\"}],\"scattergl\":[{\"type\":\"scattergl\",\"marker\":{\"colorbar\":{\"outlinewidth\":0,\"ticks\":\"\"}}}],\"scatter3d\":[{\"type\":\"scatter3d\",\"line\":{\"colorbar\":{\"outlinewidth\":0,\"ticks\":\"\"}},\"marker\":{\"colorbar\":{\"outlinewidth\":0,\"ticks\":\"\"}}}],\"scattermapbox\":[{\"type\":\"scattermapbox\",\"marker\":{\"colorbar\":{\"outlinewidth\":0,\"ticks\":\"\"}}}],\"scatterternary\":[{\"type\":\"scatterternary\",\"marker\":{\"colorbar\":{\"outlinewidth\":0,\"ticks\":\"\"}}}],\"scattercarpet\":[{\"type\":\"scattercarpet\",\"marker\":{\"colorbar\":{\"outlinewidth\":0,\"ticks\":\"\"}}}],\"carpet\":[{\"aaxis\":{\"endlinecolor\":\"#2a3f5f\",\"gridcolor\":\"white\",\"linecolor\":\"white\",\"minorgridcolor\":\"white\",\"startlinecolor\":\"#2a3f5f\"},\"baxis\":{\"endlinecolor\":\"#2a3f5f\",\"gridcolor\":\"white\",\"linecolor\":\"white\",\"minorgridcolor\":\"white\",\"startlinecolor\":\"#2a3f5f\"},\"type\":\"carpet\"}],\"table\":[{\"cells\":{\"fill\":{\"color\":\"#EBF0F8\"},\"line\":{\"color\":\"white\"}},\"header\":{\"fill\":{\"color\":\"#C8D4E3\"},\"line\":{\"color\":\"white\"}},\"type\":\"table\"}],\"barpolar\":[{\"marker\":{\"line\":{\"color\":\"#E5ECF6\",\"width\":0.5},\"pattern\":{\"fillmode\":\"overlay\",\"size\":10,\"solidity\":0.2}},\"type\":\"barpolar\"}],\"pie\":[{\"automargin\":true,\"type\":\"pie\"}]},\"layout\":{\"autotypenumbers\":\"strict\",\"colorway\":[\"#636efa\",\"#EF553B\",\"#00cc96\",\"#ab63fa\",\"#FFA15A\",\"#19d3f3\",\"#FF6692\",\"#B6E880\",\"#FF97FF\",\"#FECB52\"],\"font\":{\"color\":\"#2a3f5f\"},\"hovermode\":\"closest\",\"hoverlabel\":{\"align\":\"left\"},\"paper_bgcolor\":\"white\",\"plot_bgcolor\":\"#E5ECF6\",\"polar\":{\"bgcolor\":\"#E5ECF6\",\"angularaxis\":{\"gridcolor\":\"white\",\"linecolor\":\"white\",\"ticks\":\"\"},\"radialaxis\":{\"gridcolor\":\"white\",\"linecolor\":\"white\",\"ticks\":\"\"}},\"ternary\":{\"bgcolor\":\"#E5ECF6\",\"aaxis\":{\"gridcolor\":\"white\",\"linecolor\":\"white\",\"ticks\":\"\"},\"baxis\":{\"gridcolor\":\"white\",\"linecolor\":\"white\",\"ticks\":\"\"},\"caxis\":{\"gridcolor\":\"white\",\"linecolor\":\"white\",\"ticks\":\"\"}},\"coloraxis\":{\"colorbar\":{\"outlinewidth\":0,\"ticks\":\"\"}},\"colorscale\":{\"sequential\":[[0.0,\"#0d0887\"],[0.1111111111111111,\"#46039f\"],[0.2222222222222222,\"#7201a8\"],[0.3333333333333333,\"#9c179e\"],[0.4444444444444444,\"#bd3786\"],[0.5555555555555556,\"#d8576b\"],[0.6666666666666666,\"#ed7953\"],[0.7777777777777778,\"#fb9f3a\"],[0.8888888888888888,\"#fdca26\"],[1.0,\"#f0f921\"]],\"sequentialminus\":[[0.0,\"#0d0887\"],[0.1111111111111111,\"#46039f\"],[0.2222222222222222,\"#7201a8\"],[0.3333333333333333,\"#9c179e\"],[0.4444444444444444,\"#bd3786\"],[0.5555555555555556,\"#d8576b\"],[0.6666666666666666,\"#ed7953\"],[0.7777777777777778,\"#fb9f3a\"],[0.8888888888888888,\"#fdca26\"],[1.0,\"#f0f921\"]],\"diverging\":[[0,\"#8e0152\"],[0.1,\"#c51b7d\"],[0.2,\"#de77ae\"],[0.3,\"#f1b6da\"],[0.4,\"#fde0ef\"],[0.5,\"#f7f7f7\"],[0.6,\"#e6f5d0\"],[0.7,\"#b8e186\"],[0.8,\"#7fbc41\"],[0.9,\"#4d9221\"],[1,\"#276419\"]]},\"xaxis\":{\"gridcolor\":\"white\",\"linecolor\":\"white\",\"ticks\":\"\",\"title\":{\"standoff\":15},\"zerolinecolor\":\"white\",\"automargin\":true,\"zerolinewidth\":2},\"yaxis\":{\"gridcolor\":\"white\",\"linecolor\":\"white\",\"ticks\":\"\",\"title\":{\"standoff\":15},\"zerolinecolor\":\"white\",\"automargin\":true,\"zerolinewidth\":2},\"scene\":{\"xaxis\":{\"backgroundcolor\":\"#E5ECF6\",\"gridcolor\":\"white\",\"linecolor\":\"white\",\"showbackground\":true,\"ticks\":\"\",\"zerolinecolor\":\"white\",\"gridwidth\":2},\"yaxis\":{\"backgroundcolor\":\"#E5ECF6\",\"gridcolor\":\"white\",\"linecolor\":\"white\",\"showbackground\":true,\"ticks\":\"\",\"zerolinecolor\":\"white\",\"gridwidth\":2},\"zaxis\":{\"backgroundcolor\":\"#E5ECF6\",\"gridcolor\":\"white\",\"linecolor\":\"white\",\"showbackground\":true,\"ticks\":\"\",\"zerolinecolor\":\"white\",\"gridwidth\":2}},\"shapedefaults\":{\"line\":{\"color\":\"#2a3f5f\"}},\"annotationdefaults\":{\"arrowcolor\":\"#2a3f5f\",\"arrowhead\":0,\"arrowwidth\":1},\"geo\":{\"bgcolor\":\"white\",\"landcolor\":\"#E5ECF6\",\"subunitcolor\":\"white\",\"showland\":true,\"showlakes\":true,\"lakecolor\":\"white\"},\"title\":{\"x\":0.05},\"mapbox\":{\"style\":\"light\"}}},\"scene\":{\"domain\":{\"x\":[0.0,1.0],\"y\":[0.0,1.0]},\"xaxis\":{\"title\":{\"text\":\"Power Requirement\"}},\"yaxis\":{\"title\":{\"text\":\"Time to Restore (min)\"}},\"zaxis\":{\"title\":{\"text\":\"Criticality Score\"}}},\"legend\":{\"title\":{\"text\":\"System Name\"},\"tracegroupgap\":0,\"itemsizing\":\"constant\"},\"margin\":{\"t\":60},\"title\":{\"text\":\"System Power-Time-Criticality Space\"}},                        {\"responsive\": true}                    ).then(function(){\n",
              "                            \n",
              "var gd = document.getElementById('a8a75d36-1267-4e27-a17e-3245f611f948');\n",
              "var x = new MutationObserver(function (mutations, observer) {{\n",
              "        var display = window.getComputedStyle(gd).display;\n",
              "        if (!display || display === 'none') {{\n",
              "            console.log([gd, 'removed!']);\n",
              "            Plotly.purge(gd);\n",
              "            observer.disconnect();\n",
              "        }}\n",
              "}});\n",
              "\n",
              "// Listen for the removal of the full notebook cells\n",
              "var notebookContainer = gd.closest('#notebook-container');\n",
              "if (notebookContainer) {{\n",
              "    x.observe(notebookContainer, {childList: true});\n",
              "}}\n",
              "\n",
              "// Listen for the clearing of the current output cell\n",
              "var outputEl = gd.closest('.output');\n",
              "if (outputEl) {{\n",
              "    x.observe(outputEl, {childList: true});\n",
              "}}\n",
              "\n",
              "                        })                };                            </script>        </div>\n",
              "</body>\n",
              "</html>"
            ]
          },
          "metadata": {}
        }
      ]
    },
    {
      "cell_type": "markdown",
      "source": [
        "# Algorithm Selection"
      ],
      "metadata": {
        "id": "nUrKsgZvgT7E"
      }
    },
    {
      "cell_type": "markdown",
      "source": [
        "The ship's crew needs to select a combination of systems to restore that meet these requirements;\n",
        "\n",
        "*   Maximizes the total of criticality score\n",
        "  - max Criticality Score  \n",
        "*   Power used at most 20%\n",
        "  - total Power Requirement below or equal to 20\n",
        "*   Restore the systems in 10 minutes\n",
        "  - total Time to Restore is below 10 mniutes\n",
        "\n"
      ],
      "metadata": {
        "id": "dnPLiU5Ggcqw"
      }
    },
    {
      "cell_type": "markdown",
      "source": [
        "# Option 1 : Greedy Algorithm"
      ],
      "metadata": {
        "id": "r3YWj2CpifQJ"
      }
    },
    {
      "cell_type": "markdown",
      "source": [
        "This algorithm is a problem-solving procedure that aims to find locally optimal solutions by progressively building candidate solutions at each stage based on the level of improvement.\n",
        "\n",
        "Steps :     \n",
        "- Filter out the systems that exceed 10 minutes\n",
        "- Sorts the remaining systems by score over power ration\n",
        "- Select system in oreder until power is gone"
      ],
      "metadata": {
        "id": "sbZACIhoij76"
      }
    },
    {
      "cell_type": "code",
      "source": [
        "import itertools\n",
        "import time\n",
        "\n",
        "# Prepare system data from DataFrame\n",
        "systems = [(row['System Name'], row['Power Requirement'],\n",
        "            row['Time to Restore (min)'], row['Criticality Score'])\n",
        "           for _, row in df.iterrows()]\n",
        "\n",
        "def greedy_parallel(systems, max_power=20, max_time=10):\n",
        "    # Filter systems that meet time constraint\n",
        "    valid_systems = [sys for sys in systems if sys[2] <= max_time]\n",
        "    # Sort by criticality/power ratio (highest first)\n",
        "    valid_systems.sort(key=lambda x: x[3]/x[1], reverse=True)\n",
        "\n",
        "    best_combo = []\n",
        "    current_power = 0\n",
        "\n",
        "    # Select systems until power limit is reached\n",
        "    for sys in valid_systems:\n",
        "        if current_power + sys[1] <= max_power:\n",
        "            best_combo.append(sys)\n",
        "            current_power += sys[1]\n",
        "\n",
        "    total_score = sum(sys[3] for sys in best_combo)\n",
        "    return best_combo, total_score\n",
        "\n",
        "# Run and display results\n",
        "start_time = time.time()\n",
        "combo, score = greedy_parallel(systems)\n",
        "elapsed = time.time() - start_time\n",
        "\n",
        "print(\"Selected Systems:\")\n",
        "for sys in combo:\n",
        "    print(f\"- {sys[0]} (Power: {sys[1]}, Time: {sys[2]}, Crit: {sys[3]})\")\n",
        "print(f\"\\nTotal Criticality: {score}\")\n",
        "print(f\"Total Power Used: {sum(sys[1] for sys in combo)}\")\n",
        "print(f\"Max Restoration Time: {max(sys[2] for sys in combo)}\")\n",
        "print(f\"Execution Time: {elapsed:.6f} seconds\")"
      ],
      "metadata": {
        "colab": {
          "base_uri": "https://localhost:8080/"
        },
        "id": "iJdGWoikijPn",
        "outputId": "8e9450fd-4542-4831-ebb1-2f79da6bdc61"
      },
      "execution_count": 10,
      "outputs": [
        {
          "output_type": "stream",
          "name": "stdout",
          "text": [
            "Selected Systems:\n",
            "- AI Grid (Power: 12, Time: 9, Crit: 82)\n",
            "- Core Driver (Power: 8, Time: 5, Crit: 20)\n",
            "\n",
            "Total Criticality: 102\n",
            "Total Power Used: 20\n",
            "Max Restoration Time: 9\n",
            "Execution Time: 0.000141 seconds\n"
          ]
        }
      ]
    },
    {
      "cell_type": "markdown",
      "source": [
        "# Option 2 : Brute Force"
      ],
      "metadata": {
        "id": "Z1Y2lcrkj1P9"
      }
    },
    {
      "cell_type": "markdown",
      "source": [
        "This algorithm is a relying on or achieved through the application of force, effort, or power in usually large amounts instead of more efficient, carefully planned, or precisely directed methods.\n",
        "\n",
        "Steps :\n",
        "\n",
        "- Generates all possible subsets of systems\n",
        "- Verifies of each subsets if it meets the power and total time constraint"
      ],
      "metadata": {
        "id": "IppwNLZnj8T6"
      }
    },
    {
      "cell_type": "code",
      "source": [
        "def brute_force_parallel(systems, max_power=20, max_time=10):\n",
        "    max_score = 0\n",
        "    best_combo = []\n",
        "\n",
        "    # Try all combination sizes from 1 to total systems\n",
        "    for r in range(1, len(systems)+1):\n",
        "        # Generate all possible combinations of size r\n",
        "        for combo in itertools.combinations(systems, r):\n",
        "            # Calculate total power and max restoration time\n",
        "            total_power = sum(sys[1] for sys in combo)\n",
        "            max_combo_time = max(sys[2] for sys in combo)\n",
        "\n",
        "            # Check if combination meets constraints\n",
        "            if total_power <= max_power and max_combo_time <= max_time:\n",
        "                total_score = sum(sys[3] for sys in combo)\n",
        "                # Update best solution\n",
        "                if total_score > max_score:\n",
        "                    max_score = total_score\n",
        "                    best_combo = combo\n",
        "    return best_combo, max_score\n",
        "\n",
        "# Run and display results\n",
        "start_time = time.time()\n",
        "combo, score = brute_force_parallel(systems)\n",
        "elapsed = time.time() - start_time\n",
        "\n",
        "print(\"Selected Systems:\")\n",
        "for sys in combo:\n",
        "    print(f\"- {sys[0]} (Power: {sys[1]}, Time: {sys[2]}, Crit: {sys[3]})\")\n",
        "print(f\"\\nTotal Criticality: {score}\")\n",
        "print(f\"Total Power Used: {sum(sys[1] for sys in combo)}\")\n",
        "print(f\"Max Restoration Time: {max(sys[2] for sys in combo)}\")\n",
        "print(f\"Execution Time: {elapsed:.6f} seconds\")"
      ],
      "metadata": {
        "id": "YeArV6X-kZx_"
      },
      "execution_count": null,
      "outputs": []
    },
    {
      "cell_type": "markdown",
      "source": [
        "# Option 3 : Dynamic Programming"
      ],
      "metadata": {
        "id": "zObdYAJOkr9d"
      }
    },
    {
      "cell_type": "markdown",
      "source": [
        "This algorithm is a a programming method that transforms a decision-making problem is divided into multiple sub-problems.\n",
        "\n",
        "Steps :\n",
        "- Creates a DP table to track max criticality at each power level\n",
        "- For each systems, updates the table if by including it improves the critical score\n",
        "- Preserves system combination that leads to each score\n",
        "\n"
      ],
      "metadata": {
        "id": "wIci460Hk0oO"
      }
    },
    {
      "cell_type": "code",
      "source": [
        "def dp_parallel(systems, max_power=20, max_time=10):\n",
        "    # Filter valid systems first\n",
        "    valid_systems = [sys for sys in systems if sys[2] <= max_time]\n",
        "\n",
        "    # DP table: {power_used: (max_score, systems_list)}\n",
        "    dp = {0: (0, [])}  # {power: (score, combo)}\n",
        "\n",
        "    for sys in valid_systems:\n",
        "        name, power, time_req, score = sys\n",
        "        # Process power levels in reverse to avoid overwriting\n",
        "        for p in list(dp.keys())[::-1]:\n",
        "            new_power = p + power\n",
        "            if new_power <= max_power:\n",
        "                new_score = dp[p][0] + score\n",
        "                if new_score > dp.get(new_power, (0, []))[0]:\n",
        "                    dp[new_power] = (new_score, dp[p][1] + [sys])\n",
        "\n",
        "    # Find the power level with maximum score\n",
        "    max_power = max(dp, key=lambda x: dp[x][0])\n",
        "    return dp[max_power][1], dp[max_power][0]\n",
        "\n",
        "# Run and display results\n",
        "start_time = time.time()\n",
        "combo, score = dp_parallel(systems)\n",
        "elapsed = time.time() - start_time\n",
        "\n",
        "print(\"Selected Systems:\")\n",
        "for sys in combo:\n",
        "    print(f\"- {sys[0]} (Power: {sys[1]}, Time: {sys[2]}, Crit: {sys[3]})\")\n",
        "print(f\"\\nTotal Criticality: {score}\")\n",
        "print(f\"Total Power Used: {sum(sys[1] for sys in combo)}\")\n",
        "print(f\"Max Restoration Time: {max(sys[2] for sys in combo)}\")\n",
        "print(f\"Execution Time: {elapsed:.6f} seconds\")"
      ],
      "metadata": {
        "colab": {
          "base_uri": "https://localhost:8080/"
        },
        "id": "XJuRO0AAlezN",
        "outputId": "80bfeec9-7310-445f-adf1-0c83aeab6546"
      },
      "execution_count": 14,
      "outputs": [
        {
          "output_type": "stream",
          "name": "stdout",
          "text": [
            "Selected Systems:\n",
            "- Core Driver (Power: 8, Time: 5, Crit: 20)\n",
            "- AI Grid (Power: 12, Time: 9, Crit: 82)\n",
            "\n",
            "Total Criticality: 102\n",
            "Total Power Used: 20\n",
            "Max Restoration Time: 9\n",
            "Execution Time: 0.000086 seconds\n"
          ]
        }
      ]
    },
    {
      "cell_type": "markdown",
      "source": [
        "# Best Algorithm Option"
      ],
      "metadata": {
        "id": "qw2surr0lq8M"
      }
    },
    {
      "cell_type": "markdown",
      "source": [
        "With the results of three options\n",
        "Dynamic Programming is the best choice for the problem\n",
        "\n",
        "Even Brute Force best in optimizing, its\n",
        "- exponential time complxity (O(2ⁿ))  makes it impractical for even small datasets that took ~43 minutes to find the solution\n",
        "\n",
        "Even Greedy Algorithm is the fastest in finding solution,\n",
        "- it only worked because the high ratio systems\n",
        "\n",
        "- A greedy approach picking systems with the highest criticality-to-power ratio might miss better combinations. Example: Two low-power systems could yield a higher total score than one greedily chosen high-power system\n",
        "\n",
        "Dynamic Programming makes the best balances in all aspects as it\n",
        "- guarantees the globally optimal solution by evaluating all possible combinations within constraints\n",
        "\n",
        "- polynomial time complexity (O(n × W), where W = max power)\n",
        "\n",
        "- making it both efficient and scalable for larger instances of the problem. For this specific task—maximizing criticality under strict power and time constraints"
      ],
      "metadata": {
        "id": "VdLzAXKTlw_s"
      }
    }
  ]
}